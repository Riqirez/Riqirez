{
  "nbformat": 4,
  "nbformat_minor": 0,
  "metadata": {
    "colab": {
      "provenance": [],
      "authorship_tag": "ABX9TyO1YodFnRQCs5gjBspYy8EJ",
      "include_colab_link": true
    },
    "kernelspec": {
      "name": "python3",
      "display_name": "Python 3"
    },
    "language_info": {
      "name": "python"
    }
  },
  "cells": [
    {
      "cell_type": "markdown",
      "metadata": {
        "id": "view-in-github",
        "colab_type": "text"
      },
      "source": [
        "<a href=\"https://colab.research.google.com/github/Riqirez/Riqirez/blob/main/%ED%85%8C%EC%8A%AC%EB%9D%BC_%EC%A3%BC%EA%B0%80_%EC%98%88%EC%B8%A1.ipynb\" target=\"_parent\"><img src=\"https://colab.research.google.com/assets/colab-badge.svg\" alt=\"Open In Colab\"/></a>"
      ]
    },
    {
      "cell_type": "markdown",
      "source": [
        "# **주식 주가 예측 알고리즘**\n"
      ],
      "metadata": {
        "id": "H1_Y85RnM_3y"
      }
    },
    {
      "cell_type": "markdown",
      "source": [
        "##Tesla 예상 그래프 출력 프로그램\n"
      ],
      "metadata": {
        "id": "Hg3rldRcNL4l"
      }
    },
    {
      "cell_type": "code",
      "source": [
        "# prompt: 테슬라 주가 예측그래프 출력 분석해\n",
        "\n",
        "import yfinance as yf\n",
        "import matplotlib.pyplot as plt\n",
        "import pandas as pd\n",
        "\n",
        "# Download Tesla stock data\n",
        "tesla = yf.Ticker(\"TSLA\")\n",
        "hist = tesla.history(period=\"max\")\n",
        "\n",
        "# Prepare data for plotting\n",
        "hist['Close'].plot(figsize=(16, 6))\n",
        "plt.title('Tesla Stock Price History')\n",
        "plt.xlabel('Date')\n",
        "plt.ylabel('Price (USD)')\n",
        "plt.show()\n",
        "\n",
        "# Basic analysis (you can expand this significantly)\n",
        "print(\"\\n--- Basic Stock Statistics ---\")\n",
        "print(hist.describe())\n",
        "\n",
        "# Example of further analysis (e.g., moving averages)\n",
        "hist['MA50'] = hist['Close'].rolling(window=50).mean()\n",
        "hist[['Close', 'MA50']].plot(figsize=(16, 6))\n",
        "plt.title('Tesla Stock Price with 50-Day Moving Average')\n",
        "plt.show()\n",
        "\n",
        "\n",
        "# You can add more sophisticated analysis here, such as:\n",
        "# * Predicting future prices using time series models (e.g., ARIMA, Prophet)\n",
        "# * Analyzing trading volume and other indicators\n",
        "# * Performing sentiment analysis on news articles related to Tesla\n",
        "\n"
      ],
      "metadata": {
        "id": "DqRzfdkRMrAl"
      },
      "execution_count": null,
      "outputs": []
    }
  ]
}